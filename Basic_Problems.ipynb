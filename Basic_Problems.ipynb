{
  "nbformat": 4,
  "nbformat_minor": 0,
  "metadata": {
    "colab": {
      "provenance": [],
      "authorship_tag": "ABX9TyMoNxwpCI2IYjkPaeaMnhEP",
      "include_colab_link": true
    },
    "kernelspec": {
      "name": "python3",
      "display_name": "Python 3"
    },
    "language_info": {
      "name": "python"
    }
  },
  "cells": [
    {
      "cell_type": "markdown",
      "metadata": {
        "id": "view-in-github",
        "colab_type": "text"
      },
      "source": [
        "<a href=\"https://colab.research.google.com/github/shaownXjony/100-problems_of_python/blob/main/Basic_Problems.ipynb\" target=\"_parent\"><img src=\"https://colab.research.google.com/assets/colab-badge.svg\" alt=\"Open In Colab\"/></a>"
      ]
    },
    {
      "cell_type": "code",
      "execution_count": null,
      "metadata": {
        "colab": {
          "base_uri": "https://localhost:8080/"
        },
        "id": "N79R-H-ltR8Z",
        "outputId": "6f0a204e-05ef-4633-c22f-7dd7452cae5e"
      },
      "outputs": [
        {
          "output_type": "stream",
          "name": "stdout",
          "text": [
            "After Swapping:  Rony\n",
            "After Swapping:  Jony\n"
          ]
        }
      ],
      "source": [
        "one=\"Jony\"\n",
        "two=\"Rony\"\n",
        "one,two=two,one\n",
        "print(\"After Swapping: \",one)\n",
        "print(\"After Swapping: \",two)"
      ]
    },
    {
      "cell_type": "markdown",
      "source": [
        "## 2. Even or Odd: Write a Python program that takes an integer as input and prints whether it is even or odd."
      ],
      "metadata": {
        "id": "wTdmJnudu6cz"
      }
    },
    {
      "cell_type": "code",
      "source": [
        "check_number=int(input(\"Enter a number: \"))\n",
        "if check_number % 2==0:\n",
        "  print(check_number,\"is an Even number.\")\n",
        "else:\n",
        "  print(check_number,\"is an odd number.\")"
      ],
      "metadata": {
        "colab": {
          "base_uri": "https://localhost:8080/"
        },
        "id": "juAM0GiLwv3t",
        "outputId": "5b937691-1044-466a-cbb5-748da32f006a"
      },
      "execution_count": null,
      "outputs": [
        {
          "output_type": "stream",
          "name": "stdout",
          "text": [
            "Enter a number: 33\n",
            "33 is an odd number.\n"
          ]
        }
      ]
    },
    {
      "cell_type": "markdown",
      "source": [
        "# 3. String Reverse: Write a Python function to reverse a given string and return the reversed string."
      ],
      "metadata": {
        "id": "SiZuM5JZxWPB"
      }
    },
    {
      "cell_type": "code",
      "source": [
        "x=\"My name is Shaown\"\n",
        "\"\"\"x=x[::-1]\n",
        "print(x)\"\"\"\n",
        "\n",
        "\n",
        "def reverse_string():\n",
        "  return x[::-1]\n",
        "\n",
        "reverse_string()\n"
      ],
      "metadata": {
        "colab": {
          "base_uri": "https://localhost:8080/",
          "height": 36
        },
        "id": "l1_gBdEOxZLc",
        "outputId": "8c4aded3-6a3b-4eb6-9ad4-df4b480be630"
      },
      "execution_count": null,
      "outputs": [
        {
          "output_type": "execute_result",
          "data": {
            "text/plain": [
              "'nwoahS si eman yM'"
            ],
            "application/vnd.google.colaboratory.intrinsic+json": {
              "type": "string"
            }
          },
          "metadata": {},
          "execution_count": 10
        }
      ]
    },
    {
      "cell_type": "markdown",
      "source": [
        "# 4. Type Conversion: Given a list of integers, write a Python program to convert each element of the list to a string."
      ],
      "metadata": {
        "id": "Wzd6ZjWUyU-Z"
      }
    },
    {
      "cell_type": "code",
      "source": [
        "li_num=[1,2,3,4,5,6,7]\n",
        "b=[str(x) for x in li_num]\n",
        "print(b)\n",
        "print(type(b))\n",
        "rev=\" \".join(b)\n",
        "print(rev)\n",
        "print(type(rev))"
      ],
      "metadata": {
        "colab": {
          "base_uri": "https://localhost:8080/"
        },
        "id": "PyuKjK8k02dG",
        "outputId": "c6ade955-f90a-4e48-e7c8-488d6c9bf973"
      },
      "execution_count": null,
      "outputs": [
        {
          "output_type": "stream",
          "name": "stdout",
          "text": [
            "['1', '2', '3', '4', '5', '6', '7']\n",
            "<class 'list'>\n",
            "1 2 3 4 5 6 7\n",
            "<class 'str'>\n"
          ]
        }
      ]
    },
    {
      "cell_type": "markdown",
      "source": [
        "# 5. Temperature Converter: Write a Python program that converts a temperature in Celsius to Fahrenheit. Take the Celsius temperature as input from the user.\n"
      ],
      "metadata": {
        "id": "Oi3lB_Ee2vWZ"
      }
    },
    {
      "cell_type": "code",
      "source": [
        "celsius=float(input(\"Enter the temperature(celsius): \"))\n",
        "fahrenheit=(celsius*(9/5))+32\n",
        "print(\"Tempareture in fahrenheit:\",fahrenheit,\"F\")"
      ],
      "metadata": {
        "colab": {
          "base_uri": "https://localhost:8080/"
        },
        "id": "vwbfasZY2zS8",
        "outputId": "4e66f8c0-384b-4f98-c39e-1292238b49d6"
      },
      "execution_count": null,
      "outputs": [
        {
          "output_type": "stream",
          "name": "stdout",
          "text": [
            "Enter the temperature(celsius): 22\n",
            "Tempareture in fahrenheit: 71.6 F\n"
          ]
        }
      ]
    },
    {
      "cell_type": "markdown",
      "source": [
        "# 6. Data Type Checker: Write a Python function that takes a variable as input and returns the data type of the variable as a string (e.g., “int”, “float”, “str”, “list”, etc.)."
      ],
      "metadata": {
        "id": "mkqHO7Y34OnN"
      }
    },
    {
      "cell_type": "code",
      "source": [
        "def data_type(variable):\n",
        "  return type(variable).__name__\n",
        "\n",
        "print(data_type(\"jony\"))\n",
        "print(data_type((1,2,3,4,5)))\n",
        "print(data_type([1,2,3,4,5]))\n",
        "print(data_type(1))\n",
        "print(data_type(3.14))\n",
        "print(data_type(True))\n",
        "print(data_type({\"Color\":\"Blue\"}))"
      ],
      "metadata": {
        "colab": {
          "base_uri": "https://localhost:8080/"
        },
        "id": "mVTZIt134QPz",
        "outputId": "70936626-c4c6-4ce7-a055-acbce1a9ea6d"
      },
      "execution_count": null,
      "outputs": [
        {
          "output_type": "stream",
          "name": "stdout",
          "text": [
            "str\n",
            "tuple\n",
            "list\n",
            "int\n",
            "float\n",
            "bool\n",
            "dict\n"
          ]
        }
      ]
    },
    {
      "cell_type": "markdown",
      "source": [
        "# 7. String Palindrome: Write a Python function to check if a given string is a palindrome or not."
      ],
      "metadata": {
        "id": "5djtE_dN8PFg"
      }
    },
    {
      "cell_type": "code",
      "source": [
        "def palindrome_check(name):\n",
        "  if name==name[::-1]:\n",
        "    print(name,\"is a palindrome\")\n",
        "  else:\n",
        "    print(name,\"is not a palindrome\")\n",
        "\n",
        "user_word=input()\n",
        "palindrome_check(user_word)"
      ],
      "metadata": {
        "colab": {
          "base_uri": "https://localhost:8080/"
        },
        "id": "t9UDPFHJ8Qg-",
        "outputId": "a6f87e32-5423-4e7f-e648-fe76b3a0f5c0"
      },
      "execution_count": null,
      "outputs": [
        {
          "output_type": "stream",
          "name": "stdout",
          "text": [
            "civic\n",
            "civic is a palindrome\n"
          ]
        }
      ]
    },
    {
      "cell_type": "markdown",
      "source": [
        "# 8. String Reversal with Slicing: Write a Python function to reverse a given string using slicing."
      ],
      "metadata": {
        "id": "P2rOwcoi9mC1"
      }
    },
    {
      "cell_type": "code",
      "source": [
        "def rev(name):\n",
        "  name=name[::-1]\n",
        "  print(\"Reverse string is\",name)\n",
        "\n",
        "jony=str(input(\"Enter a string: \"))\n",
        "rev(jony)"
      ],
      "metadata": {
        "colab": {
          "base_uri": "https://localhost:8080/"
        },
        "id": "-JHU6jbQ9pKs",
        "outputId": "d96b74a7-7fac-4d05-ab2b-15b0b4e642b5"
      },
      "execution_count": null,
      "outputs": [
        {
          "output_type": "stream",
          "name": "stdout",
          "text": [
            "Enter a string: jony\n",
            "Reverse string is ynoj\n"
          ]
        }
      ]
    },
    {
      "cell_type": "markdown",
      "source": [
        "# 9. String Concatenation: Write a Python program that takes two strings as input and concatenates them into a single string without using the `+` operator."
      ],
      "metadata": {
        "id": "mb4jPV98_rmP"
      }
    },
    {
      "cell_type": "code",
      "source": [
        "def concatenate_strings(str_1, str_2):\n",
        "  return\" \".join([str_1,str_2])\n",
        "string_1=input()\n",
        "string_2=input()\n",
        "result=concatenate_strings(string_1,string_2)\n",
        "print(result)"
      ],
      "metadata": {
        "colab": {
          "base_uri": "https://localhost:8080/"
        },
        "id": "5UiPoxSA_tPw",
        "outputId": "f9e1a9e7-d89f-4ca1-82d9-f0973dbf2f14"
      },
      "execution_count": null,
      "outputs": [
        {
          "output_type": "stream",
          "name": "stdout",
          "text": [
            "My name is\n",
            "Jony\n",
            "My name is Jony\n"
          ]
        }
      ]
    },
    {
      "cell_type": "markdown",
      "source": [
        "# 10. Typecasting Challenge: Given three variables: `a = ‘100’`, `b = 25`, and `c = ‘10.5’`, write a Python program to perform the following operations and print the results: – Convert `a` to an integer and add it to `b`. – Convert `c` to a float and subtract it from the result of the first operation. – Convert the final result to a string and concatenate it with the string ” is the answer.”"
      ],
      "metadata": {
        "id": "qvEyn36sDoB2"
      }
    },
    {
      "cell_type": "code",
      "source": [
        "a=\"100\"\n",
        "b=25\n",
        "c=\"10.5\"\n",
        "a=int(a)\n",
        "d=a+b\n",
        "c=float(c)\n",
        "e=d-c\n",
        "e=str(e)\n",
        "print(e)\n",
        "print(type(e))\n",
        "print(e, f\"is the answer\")"
      ],
      "metadata": {
        "colab": {
          "base_uri": "https://localhost:8080/"
        },
        "id": "rGEKU0FfDqNW",
        "outputId": "dbfc6db5-e3d4-4ce5-faae-39bf634599ca"
      },
      "execution_count": null,
      "outputs": [
        {
          "output_type": "stream",
          "name": "stdout",
          "text": [
            "114.5\n",
            "<class 'str'>\n",
            "114.5 is the answer\n"
          ]
        }
      ]
    },
    {
      "cell_type": "markdown",
      "source": [
        "# 11. Positive, Negative, or Zero: Write a Python program that takes a number as input and prints whether it is positive, negative, or zero."
      ],
      "metadata": {
        "id": "l5X6EvO1I3YK"
      }
    },
    {
      "cell_type": "code",
      "source": [
        "def number(number):\n",
        "    if number>0:\n",
        "      print(\"Postive\")\n",
        "    elif number<0:\n",
        "      print(\"negative\")\n",
        "    elif number==0:\n",
        "      print(\"Zero\")\n",
        "\n",
        "\n",
        "num=float(input(\"Enter a number: \"))\n",
        "number(num)"
      ],
      "metadata": {
        "colab": {
          "base_uri": "https://localhost:8080/"
        },
        "id": "g67gVNrlI47a",
        "outputId": "5be72331-9fd1-4be3-ab23-78ef901b6d27"
      },
      "execution_count": null,
      "outputs": [
        {
          "output_type": "stream",
          "name": "stdout",
          "text": [
            "Enter a number: 0\n",
            "Zero\n"
          ]
        }
      ]
    },
    {
      "cell_type": "markdown",
      "source": [
        "# 12. Largest of Three Numbers: Write a Python program that takes three numbers as input and prints the largest among them."
      ],
      "metadata": {
        "id": "F0dPIiWRLcro"
      }
    },
    {
      "cell_type": "code",
      "source": [
        "a=int(input())\n",
        "b=int(input())\n",
        "c=int(input())\n",
        "\n",
        "if a>=b and a>=c:\n",
        "  print(a)\n",
        "elif b>=a and b>=c:\n",
        "  print(b)\n",
        "else:\n",
        "  print(c)"
      ],
      "metadata": {
        "colab": {
          "base_uri": "https://localhost:8080/"
        },
        "id": "4d2C9d8mLeF5",
        "outputId": "b35a511f-9457-4613-a553-8ee87635686f"
      },
      "execution_count": null,
      "outputs": [
        {
          "output_type": "stream",
          "name": "stdout",
          "text": [
            "22\n",
            "22\n",
            "22\n",
            "22\n"
          ]
        }
      ]
    }
  ]
}