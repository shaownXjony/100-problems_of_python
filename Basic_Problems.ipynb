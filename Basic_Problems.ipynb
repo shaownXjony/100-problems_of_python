{
  "nbformat": 4,
  "nbformat_minor": 0,
  "metadata": {
    "colab": {
      "provenance": [],
      "toc_visible": true,
      "authorship_tag": "ABX9TyN9UFQ7WFLOKGKBBHpazPOy",
      "include_colab_link": true
    },
    "kernelspec": {
      "name": "python3",
      "display_name": "Python 3"
    },
    "language_info": {
      "name": "python"
    }
  },
  "cells": [
    {
      "cell_type": "markdown",
      "metadata": {
        "id": "view-in-github",
        "colab_type": "text"
      },
      "source": [
        "<a href=\"https://colab.research.google.com/github/shaownXjony/100-problems_of_python/blob/main/Basic_Problems.ipynb\" target=\"_parent\"><img src=\"https://colab.research.google.com/assets/colab-badge.svg\" alt=\"Open In Colab\"/></a>"
      ]
    },
    {
      "cell_type": "markdown",
      "source": [
        "<h1 style=\"text-align: center;\",\"color:blue;\">100+ Basic \"Python\" problems</h1>"
      ],
      "metadata": {
        "id": "wjiuhKOxLSti"
      }
    },
    {
      "cell_type": "markdown",
      "source": [
        "### 1. Variable Swap: Write a Python program to swap the values of two variables without using a temporary variable."
      ],
      "metadata": {
        "id": "eMYlepNSE4Br"
      }
    },
    {
      "cell_type": "code",
      "execution_count": null,
      "metadata": {
        "colab": {
          "base_uri": "https://localhost:8080/"
        },
        "id": "N79R-H-ltR8Z",
        "outputId": "6f0a204e-05ef-4633-c22f-7dd7452cae5e"
      },
      "outputs": [
        {
          "output_type": "stream",
          "name": "stdout",
          "text": [
            "After Swapping:  Rony\n",
            "After Swapping:  Jony\n"
          ]
        }
      ],
      "source": [
        "one=\"Jony\"\n",
        "two=\"Rony\"\n",
        "one,two=two,one\n",
        "print(\"After Swapping: \",one)\n",
        "print(\"After Swapping: \",two)"
      ]
    },
    {
      "cell_type": "markdown",
      "source": [
        "### 2. Even or Odd: Write a Python program that takes an integer as input and prints whether it is even or odd."
      ],
      "metadata": {
        "id": "wTdmJnudu6cz"
      }
    },
    {
      "cell_type": "code",
      "source": [
        "check_number=int(input(\"Enter a number: \"))\n",
        "if check_number % 2==0:\n",
        "  print(check_number,\"is an Even number.\")\n",
        "else:\n",
        "  print(check_number,\"is an odd number.\")"
      ],
      "metadata": {
        "colab": {
          "base_uri": "https://localhost:8080/"
        },
        "id": "juAM0GiLwv3t",
        "outputId": "5b937691-1044-466a-cbb5-748da32f006a"
      },
      "execution_count": null,
      "outputs": [
        {
          "output_type": "stream",
          "name": "stdout",
          "text": [
            "Enter a number: 33\n",
            "33 is an odd number.\n"
          ]
        }
      ]
    },
    {
      "cell_type": "markdown",
      "source": [
        "### 3. String Reverse: Write a Python function to reverse a given string and return the reversed string."
      ],
      "metadata": {
        "id": "SiZuM5JZxWPB"
      }
    },
    {
      "cell_type": "code",
      "source": [
        "x=\"My name is Shaown\"\n",
        "\"\"\"x=x[::-1]\n",
        "print(x)\"\"\"\n",
        "\n",
        "\n",
        "def reverse_string():\n",
        "  return x[::-1]\n",
        "\n",
        "reverse_string()\n"
      ],
      "metadata": {
        "colab": {
          "base_uri": "https://localhost:8080/",
          "height": 36
        },
        "id": "l1_gBdEOxZLc",
        "outputId": "8c4aded3-6a3b-4eb6-9ad4-df4b480be630"
      },
      "execution_count": null,
      "outputs": [
        {
          "output_type": "execute_result",
          "data": {
            "text/plain": [
              "'nwoahS si eman yM'"
            ],
            "application/vnd.google.colaboratory.intrinsic+json": {
              "type": "string"
            }
          },
          "metadata": {},
          "execution_count": 10
        }
      ]
    },
    {
      "cell_type": "markdown",
      "source": [
        "### 4. Type Conversion: Given a list of integers, write a Python program to convert each element of the list to a string."
      ],
      "metadata": {
        "id": "Wzd6ZjWUyU-Z"
      }
    },
    {
      "cell_type": "code",
      "source": [
        "li_num=[1,2,3,4,5,6,7]\n",
        "b=[str(x) for x in li_num]\n",
        "print(b)\n",
        "print(type(b))\n",
        "rev=\" \".join(b)\n",
        "print(rev)\n",
        "print(type(rev))"
      ],
      "metadata": {
        "colab": {
          "base_uri": "https://localhost:8080/"
        },
        "id": "PyuKjK8k02dG",
        "outputId": "c6ade955-f90a-4e48-e7c8-488d6c9bf973"
      },
      "execution_count": null,
      "outputs": [
        {
          "output_type": "stream",
          "name": "stdout",
          "text": [
            "['1', '2', '3', '4', '5', '6', '7']\n",
            "<class 'list'>\n",
            "1 2 3 4 5 6 7\n",
            "<class 'str'>\n"
          ]
        }
      ]
    },
    {
      "cell_type": "markdown",
      "source": [
        "### 5. Temperature Converter: Write a Python program that converts a temperature in Celsius to Fahrenheit. Take the Celsius temperature as input from the user.\n"
      ],
      "metadata": {
        "id": "Oi3lB_Ee2vWZ"
      }
    },
    {
      "cell_type": "code",
      "source": [
        "celsius=float(input(\"Enter the temperature(celsius): \"))\n",
        "fahrenheit=(celsius*(9/5))+32\n",
        "print(\"Tempareture in fahrenheit:\",fahrenheit,\"F\")"
      ],
      "metadata": {
        "colab": {
          "base_uri": "https://localhost:8080/"
        },
        "id": "vwbfasZY2zS8",
        "outputId": "4e66f8c0-384b-4f98-c39e-1292238b49d6"
      },
      "execution_count": null,
      "outputs": [
        {
          "output_type": "stream",
          "name": "stdout",
          "text": [
            "Enter the temperature(celsius): 22\n",
            "Tempareture in fahrenheit: 71.6 F\n"
          ]
        }
      ]
    },
    {
      "cell_type": "markdown",
      "source": [
        "### 6. Data Type Checker: Write a Python function that takes a variable as input and returns the data type of the variable as a string (e.g., “int”, “float”, “str”, “list”, etc.)."
      ],
      "metadata": {
        "id": "mkqHO7Y34OnN"
      }
    },
    {
      "cell_type": "code",
      "source": [
        "def data_type(variable):\n",
        "  return type(variable).__name__\n",
        "\n",
        "print(data_type(\"jony\"))\n",
        "print(data_type((1,2,3,4,5)))\n",
        "print(data_type([1,2,3,4,5]))\n",
        "print(data_type(1))\n",
        "print(data_type(3.14))\n",
        "print(data_type(True))\n",
        "print(data_type({\"Color\":\"Blue\"}))"
      ],
      "metadata": {
        "colab": {
          "base_uri": "https://localhost:8080/"
        },
        "id": "mVTZIt134QPz",
        "outputId": "70936626-c4c6-4ce7-a055-acbce1a9ea6d"
      },
      "execution_count": null,
      "outputs": [
        {
          "output_type": "stream",
          "name": "stdout",
          "text": [
            "str\n",
            "tuple\n",
            "list\n",
            "int\n",
            "float\n",
            "bool\n",
            "dict\n"
          ]
        }
      ]
    },
    {
      "cell_type": "markdown",
      "source": [
        "### 7. String Palindrome: Write a Python function to check if a given string is a palindrome or not."
      ],
      "metadata": {
        "id": "5djtE_dN8PFg"
      }
    },
    {
      "cell_type": "code",
      "source": [
        "def palindrome_check(name):\n",
        "  if name==name[::-1]:\n",
        "    print(name,\"is a palindrome\")\n",
        "  else:\n",
        "    print(name,\"is not a palindrome\")\n",
        "\n",
        "user_word=input()\n",
        "palindrome_check(user_word)"
      ],
      "metadata": {
        "colab": {
          "base_uri": "https://localhost:8080/"
        },
        "id": "t9UDPFHJ8Qg-",
        "outputId": "3169bc69-6da4-49a8-a01e-c34fca1798c7"
      },
      "execution_count": null,
      "outputs": [
        {
          "output_type": "stream",
          "name": "stdout",
          "text": [
            "civic\n",
            "civic is a palindrome\n"
          ]
        }
      ]
    },
    {
      "cell_type": "markdown",
      "source": [
        "### 8. String Reversal with Slicing: Write a Python function to reverse a given string using slicing."
      ],
      "metadata": {
        "id": "P2rOwcoi9mC1"
      }
    },
    {
      "cell_type": "code",
      "source": [
        "def rev(name):\n",
        "  name=name[::-1]\n",
        "  print(\"Reverse string is\",name)\n",
        "\n",
        "jony=str(input(\"Enter a string: \"))\n",
        "rev(jony)"
      ],
      "metadata": {
        "colab": {
          "base_uri": "https://localhost:8080/"
        },
        "id": "-JHU6jbQ9pKs",
        "outputId": "d96b74a7-7fac-4d05-ab2b-15b0b4e642b5"
      },
      "execution_count": null,
      "outputs": [
        {
          "output_type": "stream",
          "name": "stdout",
          "text": [
            "Enter a string: jony\n",
            "Reverse string is ynoj\n"
          ]
        }
      ]
    },
    {
      "cell_type": "markdown",
      "source": [
        "### 9. String Concatenation: Write a Python program that takes two strings as input and concatenates them into a single string without using the `+` operator."
      ],
      "metadata": {
        "id": "mb4jPV98_rmP"
      }
    },
    {
      "cell_type": "code",
      "source": [
        "def concatenate_strings(str_1, str_2):\n",
        "  return\" \".join([str_1,str_2])\n",
        "string_1=input()\n",
        "string_2=input()\n",
        "result=concatenate_strings(string_1,string_2)\n",
        "print(result)"
      ],
      "metadata": {
        "colab": {
          "base_uri": "https://localhost:8080/"
        },
        "id": "5UiPoxSA_tPw",
        "outputId": "f9e1a9e7-d89f-4ca1-82d9-f0973dbf2f14"
      },
      "execution_count": null,
      "outputs": [
        {
          "output_type": "stream",
          "name": "stdout",
          "text": [
            "My name is\n",
            "Jony\n",
            "My name is Jony\n"
          ]
        }
      ]
    },
    {
      "cell_type": "markdown",
      "source": [
        "### 10. Typecasting Challenge: Given three variables: `a = ‘100’`, `b = 25`, and `c = ‘10.5’`, write a Python program to perform the following operations and print the results: – Convert `a` to an integer and add it to `b`. – Convert `c` to a float and subtract it from the result of the first operation. – Convert the final result to a string and concatenate it with the string ” is the answer.”"
      ],
      "metadata": {
        "id": "qvEyn36sDoB2"
      }
    },
    {
      "cell_type": "code",
      "source": [
        "a=\"100\"\n",
        "b=25\n",
        "c=\"10.5\"\n",
        "a=int(a)\n",
        "d=a+b\n",
        "c=float(c)\n",
        "e=d-c\n",
        "e=str(e)\n",
        "print(e)\n",
        "print(type(e))\n",
        "print(e, f\"is the answer\")"
      ],
      "metadata": {
        "colab": {
          "base_uri": "https://localhost:8080/"
        },
        "id": "rGEKU0FfDqNW",
        "outputId": "dbfc6db5-e3d4-4ce5-faae-39bf634599ca"
      },
      "execution_count": null,
      "outputs": [
        {
          "output_type": "stream",
          "name": "stdout",
          "text": [
            "114.5\n",
            "<class 'str'>\n",
            "114.5 is the answer\n"
          ]
        }
      ]
    },
    {
      "cell_type": "markdown",
      "source": [
        "### 11. Positive, Negative, or Zero: Write a Python program that takes a number as input and prints whether it is positive, negative, or zero."
      ],
      "metadata": {
        "id": "l5X6EvO1I3YK"
      }
    },
    {
      "cell_type": "code",
      "source": [
        "def number(number):\n",
        "    if number>0:\n",
        "      print(\"Postive\")\n",
        "    elif number<0:\n",
        "      print(\"negative\")\n",
        "    elif number==0:\n",
        "      print(\"Zero\")\n",
        "\n",
        "\n",
        "num=float(input(\"Enter a number: \"))\n",
        "number(num)"
      ],
      "metadata": {
        "colab": {
          "base_uri": "https://localhost:8080/"
        },
        "id": "g67gVNrlI47a",
        "outputId": "5be72331-9fd1-4be3-ab23-78ef901b6d27"
      },
      "execution_count": null,
      "outputs": [
        {
          "output_type": "stream",
          "name": "stdout",
          "text": [
            "Enter a number: 0\n",
            "Zero\n"
          ]
        }
      ]
    },
    {
      "cell_type": "markdown",
      "source": [
        "### 12. Largest of Three Numbers: Write a Python program that takes three numbers as input and prints the largest among them."
      ],
      "metadata": {
        "id": "F0dPIiWRLcro"
      }
    },
    {
      "cell_type": "code",
      "source": [
        "a=int(input())\n",
        "b=int(input())\n",
        "c=int(input())\n",
        "\n",
        "if a>=b and a>=c:\n",
        "  print(a)\n",
        "elif b>=a and b>=c:\n",
        "  print(b)\n",
        "else:\n",
        "  print(c)"
      ],
      "metadata": {
        "colab": {
          "base_uri": "https://localhost:8080/"
        },
        "id": "4d2C9d8mLeF5",
        "outputId": "b35a511f-9457-4613-a553-8ee87635686f"
      },
      "execution_count": null,
      "outputs": [
        {
          "output_type": "stream",
          "name": "stdout",
          "text": [
            "22\n",
            "22\n",
            "22\n",
            "22\n"
          ]
        }
      ]
    },
    {
      "cell_type": "markdown",
      "source": [
        "### 13. Leap Year Checker: Write a Python program that takes a year as input and determines if it is a leap year or not."
      ],
      "metadata": {
        "id": "lb3spspF-T6M"
      }
    },
    {
      "cell_type": "code",
      "source": [
        "#nested if condtion\n",
        "year=int(input(\"Enter a year: \"))\n",
        "\n",
        "if year%4==0:\n",
        "  if year%100==0:\n",
        "    if year%400==0:\n",
        "      print(year,\"is a leap year\")\n",
        "    else:\n",
        "      print(year,\"is a not leap year\")\n",
        "  else:\n",
        "    print(year,\"is a leap year\")\n",
        "else:\n",
        "  print(year,\"is not a leap year\")\n",
        "\n",
        "\n",
        "#function without nested\n",
        "\n",
        "def leap_generator(year):\n",
        "  if (year%4==0 and year%100!=0) or year%400==0:\n",
        "    print(f\"{year} is aleap year\")\n",
        "  else:\n",
        "    print(f\"{year} is not leap year\")\n",
        "\n",
        "check_years=int(input(\"Enter a year to check: \"))\n",
        "leap_generator(check_years)\n",
        "\n",
        "\n"
      ],
      "metadata": {
        "colab": {
          "base_uri": "https://localhost:8080/"
        },
        "id": "Hc7Lyrp3-Vbc",
        "outputId": "2a5cd7ed-9831-4f17-e97c-eeb81efa6457"
      },
      "execution_count": null,
      "outputs": [
        {
          "output_type": "stream",
          "name": "stdout",
          "text": [
            "Enter a year: 1900\n",
            "1900 is a not leap year\n",
            "Enter a year to check: 2024\n",
            "2024 is aleap year\n"
          ]
        }
      ]
    },
    {
      "cell_type": "markdown",
      "source": [
        "### 14. Grades Classification: Write a Python program that takes a student’s percentage as input and prints their corresponding grade according to the following criteria: – 90% or above: A+ – 80-89%: A – 70-79%: B – 60-69%: C – Below 60%: Fail"
      ],
      "metadata": {
        "id": "e-UqgvrkHIwO"
      }
    },
    {
      "cell_type": "code",
      "source": [
        "def grade_classification(percentage):\n",
        "  if 100>= percentage >= 90:\n",
        "    return \" A+ \"\n",
        "  elif 89>= percentage >=80 :\n",
        "    return \" A \"\n",
        "  elif 79>= percentage >=70 :\n",
        "    return \" B \"\n",
        "  elif 69 >= percentage >=60:\n",
        "    return \" C \"\n",
        "  else:\n",
        "    return \" Fail \"\n",
        "\n",
        "check_grade=float(input(\"Enter your percentage: \"))\n",
        "print(\"Your percentage of number\",check_grade, \"is correspond to\",grade_classification(check_grade))\n"
      ],
      "metadata": {
        "id": "0Qzk9iMOHKiq",
        "colab": {
          "base_uri": "https://localhost:8080/"
        },
        "outputId": "cd1bf0bf-e391-488c-806f-56cd0d14ccaf"
      },
      "execution_count": null,
      "outputs": [
        {
          "output_type": "stream",
          "name": "stdout",
          "text": [
            "Enter your percentage: 100\n",
            "Your percentage of number 100.0 is correspond to  A+ \n"
          ]
        }
      ]
    },
    {
      "cell_type": "markdown",
      "source": [
        "### 15. Vowel or Consonant: Write a Python program that takes a single character as input and determines whether it is a vowel or a consonant."
      ],
      "metadata": {
        "id": "aD01rLNzML6G"
      }
    },
    {
      "cell_type": "code",
      "source": [
        "def vowel_or_consonant(charecters):\n",
        "  if (charecters ==\"a\" or charecters==\"e\" or charecters==\"i\" or charecters==\"o\" or charecters==\"u\"):\n",
        "    return \"Vowel\"\n",
        "  else:\n",
        "    return \"Consonant\"\n",
        "\n",
        "\n",
        "\n",
        "check_charecter=input(\"enter your charecter: \")\n",
        "check_charecter.islower\n",
        "print(vowel_or_consonant(check_charecter))"
      ],
      "metadata": {
        "colab": {
          "base_uri": "https://localhost:8080/"
        },
        "id": "EbiH_hMgMSAD",
        "outputId": "11b6e1ef-bb79-4e7d-ff1d-9328c41ca581"
      },
      "execution_count": null,
      "outputs": [
        {
          "output_type": "stream",
          "name": "stdout",
          "text": [
            "enter your charecter: A\n",
            "Consonant\n"
          ]
        }
      ]
    },
    {
      "cell_type": "markdown",
      "source": [
        "### 16. Time Classification: Write a Python program that takes the time in hours (24-hour format) as input and prints “Good Morning”, “Good Afternoon”, “Good Evening”, or “Good Night” based on the time."
      ],
      "metadata": {
        "id": "2FrN_5bqQbtC"
      }
    },
    {
      "cell_type": "code",
      "source": [
        "def time_classi(hour):\n",
        "        if 5 <= hour < 12:\n",
        "            return \"Good Morning\"\n",
        "        elif 12 <= hour < 17:\n",
        "            return \"Good Afternoon\"\n",
        "        elif 17 <= hour < 21:\n",
        "            return \"Good Evening\"\n",
        "        else:\n",
        "            return \"Good Night\"\n",
        "\n",
        "try:\n",
        "  time=int(input(\"Enter your time: \"))\n",
        "  print(time_classi(time))\n",
        "except ValueError:\n",
        "  print(\"Invalid input. Enter a integer input\")"
      ],
      "metadata": {
        "colab": {
          "base_uri": "https://localhost:8080/"
        },
        "id": "LnBm1l5RQeXj",
        "outputId": "59c81191-3955-4f23-b46f-4d2a38875c77"
      },
      "execution_count": null,
      "outputs": [
        {
          "output_type": "stream",
          "name": "stdout",
          "text": [
            "Enter your time: 12\n",
            "Good Afternoon\n"
          ]
        }
      ]
    },
    {
      "cell_type": "markdown",
      "source": [
        "### 17. Triangle Type Checker: Write a Python program that takes three sides of a triangle as input and determines whether it forms an equilateral, isosceles, or scalene triangle."
      ],
      "metadata": {
        "id": "kH0TSc50XZHJ"
      }
    },
    {
      "cell_type": "code",
      "source": [
        "def triangle_checker(a,b,c):\n",
        "  if a+b>c and a+c>b and c+a>b:\n",
        "    if a== b ==c:\n",
        "      return \"Equilateral\"\n",
        "    elif a==b or a==c or b==c:\n",
        "      return \"Isosceles\"\n",
        "    else:\n",
        "      return \"Scalene\"\n",
        "  else:\n",
        "    return \"Not a triangle\"\n",
        "\n",
        "side_1=float(input())\n",
        "side_2=float(input())\n",
        "side_3=float(input())\n",
        "print(triangle_checker(side_1,side_2,side_3))"
      ],
      "metadata": {
        "colab": {
          "base_uri": "https://localhost:8080/"
        },
        "id": "PpNgYYd1XdA9",
        "outputId": "e05657d4-2267-4432-bffc-d8661ba52c66"
      },
      "execution_count": null,
      "outputs": [
        {
          "output_type": "stream",
          "name": "stdout",
          "text": [
            "2\n",
            "3\n",
            "6\n",
            "Not a triangle\n"
          ]
        }
      ]
    },
    {
      "cell_type": "markdown",
      "source": [
        "### 18. Quadratic Equation Solver: Write a Python program that takes the coefficients (a, b, c) of a quadratic equation as input and calculates and prints the real roots (if they exist) or a message indicating the complex roots."
      ],
      "metadata": {
        "id": "UVBhTczVsu3c"
      }
    },
    {
      "cell_type": "markdown",
      "source": [
        "### 19. Number Ranges: Write a Python program that takes an integer as input and prints whether the number falls within the ranges: 0-50, 51-100, 101-150, or above 150."
      ],
      "metadata": {
        "id": "Ba_2lk8ltqxh"
      }
    },
    {
      "cell_type": "code",
      "source": [
        "def number_rangers(number):\n",
        "  if number in range(0,50):\n",
        "    return \" 0-50 \"\n",
        "  elif number in range(51,100):\n",
        "    return \"51-100\"\n",
        "  elif number in range(101,150):\n",
        "    return \"101-150\"\n",
        "  else:\n",
        "    return \"Above 150\"\n",
        "\n",
        "check_number=int(input(\"Enter a number to check range: \"))\n",
        "print(number_rangers(check_number))"
      ],
      "metadata": {
        "colab": {
          "base_uri": "https://localhost:8080/"
        },
        "id": "B_2EYoY7trgB",
        "outputId": "dab31b2d-672d-4df4-82c3-d49b181823c1"
      },
      "execution_count": null,
      "outputs": [
        {
          "output_type": "stream",
          "name": "stdout",
          "text": [
            "Enter a number to check range: 333\n",
            "Above 150\n"
          ]
        }
      ]
    },
    {
      "cell_type": "markdown",
      "source": [
        "### 20. Sum of N Numbers: Write a Python program using a for loop to calculate the sum of the first N natural numbers, where N is taken as input from the user."
      ],
      "metadata": {
        "id": "xmeP0EUmvTTy"
      }
    },
    {
      "cell_type": "code",
      "source": [
        "#with for loop\n",
        "n=int(input(\"Enter a natural number: \"))\n",
        "sum=0\n",
        "for i in range(1,n+1):\n",
        "  sum=sum+i\n",
        "  i=i+1\n",
        "print(f\"sum of the first {n} natural numbers : {sum}\")\n"
      ],
      "metadata": {
        "colab": {
          "base_uri": "https://localhost:8080/"
        },
        "id": "r1ejl7lAvUmP",
        "outputId": "3d9dd5e7-1558-404b-af5c-5485401bcbc3"
      },
      "execution_count": null,
      "outputs": [
        {
          "output_type": "stream",
          "name": "stdout",
          "text": [
            "Enter a natural number: 10\n",
            "sum of the first 10 natural numbers : 55\n"
          ]
        }
      ]
    },
    {
      "cell_type": "code",
      "source": [
        "#with while loop\n",
        "\n",
        "n=int(input(\"Enter a natural number: \"))\n",
        "sum=0\n",
        "i=1\n",
        "while i<=n:\n",
        "  sum=sum+i\n",
        "  i=i+1\n",
        "print(f\"sum of the first {n} natural numbers : {sum}\")\n"
      ],
      "metadata": {
        "colab": {
          "base_uri": "https://localhost:8080/"
        },
        "id": "zxPDmTWD74jZ",
        "outputId": "dd1d363c-d55e-49f7-f6f4-7344d6e1a222"
      },
      "execution_count": null,
      "outputs": [
        {
          "output_type": "stream",
          "name": "stdout",
          "text": [
            "Enter a natural number: 10\n",
            "sum of the first 10 natural numbers : 55\n"
          ]
        }
      ]
    },
    {
      "cell_type": "markdown",
      "source": [
        "### 21. Factorial Calculator: Write a Python program using a while loop to calculate the factorial of a given number N."
      ],
      "metadata": {
        "id": "of76pKC68v5w"
      }
    },
    {
      "cell_type": "code",
      "source": [
        "n=int(input(\"Enter a natural number: \"))\n",
        "fact=1\n",
        "i=1\n",
        "while i<=n:\n",
        "  fact=fact*i\n",
        "  i=i+1\n",
        "print(f\"The factorial of {n} is {fact}\")\n"
      ],
      "metadata": {
        "colab": {
          "base_uri": "https://localhost:8080/"
        },
        "id": "moBJoaud9ZKo",
        "outputId": "e55ce568-c24b-4742-c5e6-7e419d891e1f"
      },
      "execution_count": null,
      "outputs": [
        {
          "output_type": "stream",
          "name": "stdout",
          "text": [
            "Enter a natural number: 6\n",
            "The factorial of 6 is 720\n"
          ]
        }
      ]
    },
    {
      "cell_type": "markdown",
      "source": [
        "### 22. Table of a Number: Write a Python program using a for loop to print the multiplication table of a given number N."
      ],
      "metadata": {
        "id": "Glo_6noV-C2s"
      }
    },
    {
      "cell_type": "code",
      "source": [
        "n=int(input(\"Enter a natural number: \"))\n",
        "print(f\"Multiplication of {n} is: \")\n",
        "for i in range(1,11):\n",
        "  result=n*i\n",
        "  print(f\"{n}x{i} = {result}\")"
      ],
      "metadata": {
        "colab": {
          "base_uri": "https://localhost:8080/"
        },
        "id": "IxAOhm7b-ECs",
        "outputId": "205d1b96-1cb0-4b3c-f953-31afca855937"
      },
      "execution_count": null,
      "outputs": [
        {
          "output_type": "stream",
          "name": "stdout",
          "text": [
            "Enter a natural number: 5\n",
            "Multiplication of 5 is: \n",
            "5x1 = 5\n",
            "5x2 = 10\n",
            "5x3 = 15\n",
            "5x4 = 20\n",
            "5x5 = 25\n",
            "5x6 = 30\n",
            "5x7 = 35\n",
            "5x8 = 40\n",
            "5x9 = 45\n",
            "5x10 = 50\n"
          ]
        }
      ]
    },
    {
      "cell_type": "markdown",
      "source": [
        "### 23. Count Digits in a Number: Write a Python program using a while loop to count the number of digits in a given integer N."
      ],
      "metadata": {
        "id": "xYipUxKIGaGL"
      }
    },
    {
      "cell_type": "code",
      "source": [
        "num=int(input(\"Enter a number: \"))\n",
        "count=0\n",
        "while num!=0:\n",
        "  num=num//10\n",
        "  count=count+1\n",
        "print(f\"the number of digits in a integer {num} is : {count}\")\n"
      ],
      "metadata": {
        "colab": {
          "base_uri": "https://localhost:8080/"
        },
        "id": "i7ea2eijGbsv",
        "outputId": "ffcfda68-aebc-43bc-bc90-9f9873b02010"
      },
      "execution_count": null,
      "outputs": [
        {
          "output_type": "stream",
          "name": "stdout",
          "text": [
            "Enter a number: 1234\n",
            "the number of digits in a integer 0 is : 4\n"
          ]
        }
      ]
    },
    {
      "cell_type": "markdown",
      "source": [
        "### 24. Fibonacci Sequence: Write a Python program using a for loop to generate the Fibonacci sequence up to a given limit N."
      ],
      "metadata": {
        "id": "VQ2wkchPJbl5"
      }
    },
    {
      "cell_type": "code",
      "source": [
        "num= int(input(\"Enter a number: \"))\n",
        "print(\"Fibonacci series: \")\n",
        "a=0\n",
        "b=1\n",
        "\n",
        "if num==1:\n",
        "  print(a)\n",
        "else:\n",
        "  print(a)\n",
        "  print(b)\n",
        "  for i in range(2,num):\n",
        "    c=a+b\n",
        "    a=b\n",
        "    b=c\n",
        "    print(c)"
      ],
      "metadata": {
        "colab": {
          "base_uri": "https://localhost:8080/"
        },
        "id": "xU5Lwku_7XiG",
        "outputId": "ec740283-fbed-41bd-8400-596df8b75cd0"
      },
      "execution_count": null,
      "outputs": [
        {
          "output_type": "stream",
          "name": "stdout",
          "text": [
            "Enter a number: 7\n",
            "Fibonacci series: \n",
            "0\n",
            "1\n",
            "1\n",
            "2\n",
            "3\n",
            "5\n",
            "8\n"
          ]
        }
      ]
    },
    {
      "cell_type": "code",
      "source": [
        "#while loop\n",
        "num= int(input(\"Enter a number: \"))\n",
        "print(\"Fibonacci series: \")\n",
        "num1=0\n",
        "num2=1\n",
        "count=0\n",
        "\n",
        "while count<num:\n",
        "  print(num1)\n",
        "  result=num1+num2\n",
        "  num1=num2\n",
        "  num2=result\n",
        "  count=count+1"
      ],
      "metadata": {
        "colab": {
          "base_uri": "https://localhost:8080/"
        },
        "id": "W-R-fJkA5Ltk",
        "outputId": "524ac3a4-a898-413c-d164-654bf1d0c21f"
      },
      "execution_count": null,
      "outputs": [
        {
          "output_type": "stream",
          "name": "stdout",
          "text": [
            "Enter a number: 7\n",
            "Fibonacci series: \n",
            "0\n",
            "1\n",
            "1\n",
            "2\n",
            "3\n",
            "5\n",
            "8\n"
          ]
        }
      ]
    },
    {
      "cell_type": "markdown",
      "source": [
        "### 25. Sum of Even Numbers: Write a Python program using a while loop to calculate the sum of all even numbers between 1 and N, where N is taken as input from the user."
      ],
      "metadata": {
        "id": "mJTdC4n9AJV9"
      }
    },
    {
      "cell_type": "code",
      "source": [
        "n=int(input(\"Enter a natural number: \"))\n",
        "sum=0\n",
        "i=2\n",
        "while i<=n:\n",
        "  sum=sum+i\n",
        "  i=i+2\n",
        "print(f\"sum of the first {n} natural numbers : {sum}\")"
      ],
      "metadata": {
        "colab": {
          "base_uri": "https://localhost:8080/"
        },
        "id": "ovsJ3kT4APyG",
        "outputId": "d1b3322e-a807-405c-acde-8f87c76b476d"
      },
      "execution_count": null,
      "outputs": [
        {
          "output_type": "stream",
          "name": "stdout",
          "text": [
            "Enter a natural number: 10\n",
            "sum of the first 10 natural numbers : 30\n"
          ]
        }
      ]
    },
    {
      "cell_type": "markdown",
      "source": [
        "### 26. Print Patterns: Write a Python program using nested for loops to print various patterns, such as a right-angled triangle, an inverted right-angled triangle, and so on."
      ],
      "metadata": {
        "id": "zcXqU7k3CfWm"
      }
    },
    {
      "cell_type": "markdown",
      "source": [
        "Right-Angled Triangle"
      ],
      "metadata": {
        "id": "pMjYW-0VQcjg"
      }
    },
    {
      "cell_type": "code",
      "source": [
        "rows = int(input(\"Enter number of rows: \"))\n",
        "print(\"Right-Angled Triangle of Stars\")\n",
        "\n",
        "for i in range(1,rows+1):\n",
        "  print(\"*\"*i)"
      ],
      "metadata": {
        "colab": {
          "base_uri": "https://localhost:8080/"
        },
        "id": "ghm3NzyLChC2",
        "outputId": "56927024-0dcf-4bc2-fb4a-0b8d98f1b9a3"
      },
      "execution_count": null,
      "outputs": [
        {
          "output_type": "stream",
          "name": "stdout",
          "text": [
            "Enter number of rows: 5\n",
            "Right-Angled Triangle of Stars\n",
            "*\n",
            "**\n",
            "***\n",
            "****\n",
            "*****\n"
          ]
        }
      ]
    },
    {
      "cell_type": "markdown",
      "source": [
        "Left-Angled Triangle"
      ],
      "metadata": {
        "id": "_6CED-1MQldk"
      }
    },
    {
      "cell_type": "code",
      "source": [
        "rows = int(input(\"Enter number of rows: \"))\n",
        "print(\"Left-Angled Triangle of Stars\")\n",
        "for i in range(1,rows+1):\n",
        "  print(\" \" * (rows - i) + \"*\" * i)"
      ],
      "metadata": {
        "colab": {
          "base_uri": "https://localhost:8080/"
        },
        "id": "DvDpRtQ0EfcY",
        "outputId": "065ee154-e937-4194-dd11-87c663ad0d75"
      },
      "execution_count": null,
      "outputs": [
        {
          "output_type": "stream",
          "name": "stdout",
          "text": [
            "Enter number of rows: 5\n",
            "Left-Angled Triangle of Stars\n",
            "    *\n",
            "   **\n",
            "  ***\n",
            " ****\n",
            "*****\n"
          ]
        }
      ]
    },
    {
      "cell_type": "markdown",
      "source": [
        "Right-Angled Inverted Triangle"
      ],
      "metadata": {
        "id": "OdAvCMDHQqXR"
      }
    },
    {
      "cell_type": "code",
      "source": [
        "rows = int(input(\"Enter number of rows: \"))\n",
        "print(\"Right-Angled Inverted Triangle of Stars\")\n",
        "\n",
        "for i in range(rows,0,-1):\n",
        "  print(\"*\"*i)"
      ],
      "metadata": {
        "colab": {
          "base_uri": "https://localhost:8080/"
        },
        "id": "GlyZqobfFL83",
        "outputId": "e1d591a5-750a-4f39-9c74-e98651c83a2c"
      },
      "execution_count": null,
      "outputs": [
        {
          "output_type": "stream",
          "name": "stdout",
          "text": [
            "Enter number of rows: 5\n",
            "Right-Angled Inverted Triangle of Stars\n",
            "*****\n",
            "****\n",
            "***\n",
            "**\n",
            "*\n"
          ]
        }
      ]
    },
    {
      "cell_type": "markdown",
      "source": [
        "Left-Angled Inverted Triangle"
      ],
      "metadata": {
        "id": "sWXWLYOOQvIj"
      }
    },
    {
      "cell_type": "code",
      "source": [
        "rows = int(input(\"Enter number of rows: \"))\n",
        "print(\"Left-Angled Inverted Triangle of Stars\")\n",
        "for i in range(rows,0,-1):\n",
        "  spaces=rows-i\n",
        "  stars= i\n",
        "  print(\" \" *spaces + \"*\"*stars )"
      ],
      "metadata": {
        "colab": {
          "base_uri": "https://localhost:8080/"
        },
        "id": "MA9xMfgNPL0u",
        "outputId": "192f5525-74f6-4e7e-8641-55a1cfcd24c1"
      },
      "execution_count": null,
      "outputs": [
        {
          "output_type": "stream",
          "name": "stdout",
          "text": [
            "Enter number of rows: 5\n",
            "Left-Angled Inverted Triangle of Stars\n",
            "*****\n",
            " ****\n",
            "  ***\n",
            "   **\n",
            "    *\n"
          ]
        }
      ]
    },
    {
      "cell_type": "markdown",
      "source": [
        "Pyramid of Stars"
      ],
      "metadata": {
        "id": "lVd04V7EQx3k"
      }
    },
    {
      "cell_type": "code",
      "source": [
        "rows = int(input(\"Enter number of rows: \"))\n",
        "print(\"Pyramid of Stars\")\n",
        "\n",
        "for i in range(1, rows + 1):\n",
        "    spaces = rows - i\n",
        "    stars = 2 * i - 1\n",
        "    print(\" \" * spaces + \"*\" * stars)\n"
      ],
      "metadata": {
        "colab": {
          "base_uri": "https://localhost:8080/"
        },
        "id": "NNLRVpLyGF41",
        "outputId": "c5958512-d0df-4def-fd78-ffe408bd54f0"
      },
      "execution_count": null,
      "outputs": [
        {
          "output_type": "stream",
          "name": "stdout",
          "text": [
            "Enter number of rows: 5\n",
            "Pyramid of Stars\n",
            "    *\n",
            "   ***\n",
            "  *****\n",
            " *******\n",
            "*********\n"
          ]
        }
      ]
    },
    {
      "cell_type": "markdown",
      "source": [
        "Inverted Pyramid"
      ],
      "metadata": {
        "id": "p-CgfrjQQ0Ss"
      }
    },
    {
      "cell_type": "code",
      "source": [
        "rows = int(input(\"Enter number of rows: \"))\n",
        "print(\"Inverted Pyramid of Stars\")\n",
        "\n",
        "for i in range(rows,0,-1):\n",
        "      spaces = rows - i\n",
        "      stars = 2 * i - 1\n",
        "      print(\" \" * spaces + \"*\" * stars)"
      ],
      "metadata": {
        "colab": {
          "base_uri": "https://localhost:8080/"
        },
        "id": "ms8cSw50JjHZ",
        "outputId": "1082540e-6db3-445f-9e92-49512c947075"
      },
      "execution_count": null,
      "outputs": [
        {
          "output_type": "stream",
          "name": "stdout",
          "text": [
            "Enter number of rows: 5\n",
            "Inverted Pyramid of Stars\n",
            "*********\n",
            " *******\n",
            "  *****\n",
            "   ***\n",
            "    *\n"
          ]
        }
      ]
    },
    {
      "cell_type": "markdown",
      "source": [
        "### 27. Prime Number Checker: Write a Python program using a while loop to check if a given number N is prime or not."
      ],
      "metadata": {
        "id": "tzshs4MzRqME"
      }
    },
    {
      "cell_type": "code",
      "source": [
        "num=int(input(\"enter the number :\"))\n",
        "prime = True\n",
        "for i in range(2, num):\n",
        "    if num%i==0:\n",
        "        prime=False\n",
        "        break\n",
        "if prime:\n",
        "  print(num,\" is a prime number\")\n",
        "else:\n",
        "  print(num,\" is a not prime number\")"
      ],
      "metadata": {
        "colab": {
          "base_uri": "https://localhost:8080/"
        },
        "id": "sCnd_Xr7Rrl6",
        "outputId": "dacd9ff5-66cc-4ed2-9f33-5e135abc2da1"
      },
      "execution_count": null,
      "outputs": [
        {
          "output_type": "stream",
          "name": "stdout",
          "text": [
            "enter the number :5\n",
            "5  is a prime number\n"
          ]
        }
      ]
    },
    {
      "cell_type": "code",
      "source": [
        "a = 0\n",
        "i = 2\n",
        "n = int(input('Enter the number to check Prime or Not : '))\n",
        "i = 2\n",
        "while i <= (n/2):\n",
        "    if (n%i) == 0:\n",
        "        a = 1\n",
        "        break\n",
        "    else:\n",
        "        i += 1\n",
        "\n",
        "if n == 1:\n",
        "    print('1 is neither')\n",
        "elif a == 0:\n",
        "    print(n,' is a prime number.')\n",
        "elif a == 1:\n",
        "    print(n,' is not a prime number.')"
      ],
      "metadata": {
        "colab": {
          "base_uri": "https://localhost:8080/"
        },
        "id": "iW-qoqX9V044",
        "outputId": "6bd2b9be-84e8-4c1a-f08a-c98e74b47be9"
      },
      "execution_count": null,
      "outputs": [
        {
          "output_type": "stream",
          "name": "stdout",
          "text": [
            "Enter the number to check Prime or Not : 5\n",
            "5  is a prime number.\n"
          ]
        }
      ]
    },
    {
      "cell_type": "markdown",
      "source": [
        "### 28. List Manipulation: Given a list of integers, write a Python program using a for loop to find the sum, average, maximum, and minimum values in the list."
      ],
      "metadata": {
        "id": "Nij7RPRXp2pq"
      }
    },
    {
      "cell_type": "code",
      "source": [
        "li=[3,4,5,6,22,7,8,3,5,6,9]\n",
        "sum=0\n",
        "maximum = li[0]\n",
        "minimum = li[0]\n",
        "for i in li:\n",
        "  sum=sum+i\n",
        "\n",
        "  if i > maximum:\n",
        "    maximum = i\n",
        "\n",
        "  if i < minimum:\n",
        "    minimum = i\n",
        "\n",
        "avg=sum/len(li)\n",
        "print(\"Length of list\",len(li))\n",
        "print(\"Sum\",sum)\n",
        "print(\"Avarage\",avg)\n",
        "print(\"Maximum\",maximum)\n",
        "print(\"Minimum\",minimum)"
      ],
      "metadata": {
        "colab": {
          "base_uri": "https://localhost:8080/"
        },
        "id": "MOgW8_icp59C",
        "outputId": "8d40b410-2cce-4c5c-f76d-8b5342d5b8db"
      },
      "execution_count": 27,
      "outputs": [
        {
          "output_type": "stream",
          "name": "stdout",
          "text": [
            "Length of list 11\n",
            "Sum 78\n",
            "Avarage 7.090909090909091\n",
            "Maximum 22\n",
            "Minimum 3\n"
          ]
        }
      ]
    },
    {
      "cell_type": "markdown",
      "source": [
        "### 29. Reverse String: Write a Python program using a while loop to reverse a given string."
      ],
      "metadata": {
        "id": "HIDuJXxAv0mb"
      }
    },
    {
      "cell_type": "code",
      "source": [
        "name=\"JONY\"\n",
        "#print(name[::-1])\n",
        "\n",
        "i = len(name) - 1\n",
        "\n",
        "while i >= 0:\n",
        "    print(name[i],end=\"\")\n",
        "    i = i - 1\n"
      ],
      "metadata": {
        "colab": {
          "base_uri": "https://localhost:8080/"
        },
        "id": "gOzGB-RJv1wp",
        "outputId": "28937682-2485-4422-c9dc-83fa5372c4a9"
      },
      "execution_count": 36,
      "outputs": [
        {
          "output_type": "stream",
          "name": "stdout",
          "text": [
            "YNOJ"
          ]
        }
      ]
    },
    {
      "cell_type": "markdown",
      "source": [
        "###30. Multiplication Table: Write a Python program using nested loops to print the multiplication table from 1 to 10."
      ],
      "metadata": {
        "id": "jLRS86tnzGoP"
      }
    },
    {
      "cell_type": "code",
      "source": [
        "\"\"\"num=int(input(\"Enter a number for multiplication: \"))\n",
        "for i in range(1,11):\n",
        "  print(f\"{num} x {i} = {num*i}\")\"\"\"\n",
        "\n",
        "print(\"Multiplication table from 1 to 10.\")\n",
        "for i in range(1, 11):\n",
        "    for j in range(1, 11):\n",
        "        print(f\"{i} x {j} = {i * j}\", end='\\n')\n",
        "    print()\n"
      ],
      "metadata": {
        "colab": {
          "base_uri": "https://localhost:8080/"
        },
        "id": "h-kwKpgJzIO0",
        "outputId": "0a3dbc2d-65bb-4666-9151-9095bbbac959"
      },
      "execution_count": 44,
      "outputs": [
        {
          "output_type": "stream",
          "name": "stdout",
          "text": [
            "Multiplication table from 1 to 10.\n",
            "1 x 1 = 1\n",
            "1 x 2 = 2\n",
            "1 x 3 = 3\n",
            "1 x 4 = 4\n",
            "1 x 5 = 5\n",
            "1 x 6 = 6\n",
            "1 x 7 = 7\n",
            "1 x 8 = 8\n",
            "1 x 9 = 9\n",
            "1 x 10 = 10\n",
            "\n",
            "2 x 1 = 2\n",
            "2 x 2 = 4\n",
            "2 x 3 = 6\n",
            "2 x 4 = 8\n",
            "2 x 5 = 10\n",
            "2 x 6 = 12\n",
            "2 x 7 = 14\n",
            "2 x 8 = 16\n",
            "2 x 9 = 18\n",
            "2 x 10 = 20\n",
            "\n",
            "3 x 1 = 3\n",
            "3 x 2 = 6\n",
            "3 x 3 = 9\n",
            "3 x 4 = 12\n",
            "3 x 5 = 15\n",
            "3 x 6 = 18\n",
            "3 x 7 = 21\n",
            "3 x 8 = 24\n",
            "3 x 9 = 27\n",
            "3 x 10 = 30\n",
            "\n",
            "4 x 1 = 4\n",
            "4 x 2 = 8\n",
            "4 x 3 = 12\n",
            "4 x 4 = 16\n",
            "4 x 5 = 20\n",
            "4 x 6 = 24\n",
            "4 x 7 = 28\n",
            "4 x 8 = 32\n",
            "4 x 9 = 36\n",
            "4 x 10 = 40\n",
            "\n",
            "5 x 1 = 5\n",
            "5 x 2 = 10\n",
            "5 x 3 = 15\n",
            "5 x 4 = 20\n",
            "5 x 5 = 25\n",
            "5 x 6 = 30\n",
            "5 x 7 = 35\n",
            "5 x 8 = 40\n",
            "5 x 9 = 45\n",
            "5 x 10 = 50\n",
            "\n",
            "6 x 1 = 6\n",
            "6 x 2 = 12\n",
            "6 x 3 = 18\n",
            "6 x 4 = 24\n",
            "6 x 5 = 30\n",
            "6 x 6 = 36\n",
            "6 x 7 = 42\n",
            "6 x 8 = 48\n",
            "6 x 9 = 54\n",
            "6 x 10 = 60\n",
            "\n",
            "7 x 1 = 7\n",
            "7 x 2 = 14\n",
            "7 x 3 = 21\n",
            "7 x 4 = 28\n",
            "7 x 5 = 35\n",
            "7 x 6 = 42\n",
            "7 x 7 = 49\n",
            "7 x 8 = 56\n",
            "7 x 9 = 63\n",
            "7 x 10 = 70\n",
            "\n",
            "8 x 1 = 8\n",
            "8 x 2 = 16\n",
            "8 x 3 = 24\n",
            "8 x 4 = 32\n",
            "8 x 5 = 40\n",
            "8 x 6 = 48\n",
            "8 x 7 = 56\n",
            "8 x 8 = 64\n",
            "8 x 9 = 72\n",
            "8 x 10 = 80\n",
            "\n",
            "9 x 1 = 9\n",
            "9 x 2 = 18\n",
            "9 x 3 = 27\n",
            "9 x 4 = 36\n",
            "9 x 5 = 45\n",
            "9 x 6 = 54\n",
            "9 x 7 = 63\n",
            "9 x 8 = 72\n",
            "9 x 9 = 81\n",
            "9 x 10 = 90\n",
            "\n",
            "10 x 1 = 10\n",
            "10 x 2 = 20\n",
            "10 x 3 = 30\n",
            "10 x 4 = 40\n",
            "10 x 5 = 50\n",
            "10 x 6 = 60\n",
            "10 x 7 = 70\n",
            "10 x 8 = 80\n",
            "10 x 9 = 90\n",
            "10 x 10 = 100\n",
            "\n"
          ]
        }
      ]
    }
  ]
}